{
 "cells": [
  {
   "cell_type": "markdown",
   "id": "8abf4392-8f60-443e-92ad-1603ab082aae",
   "metadata": {},
   "source": [
    "# Reto 6: Aplicación Integral de Conocimientos con Ambientes, Jupyter y Manipulación de Datos\n",
    "## 1. Crear un Archivo CSV Propio"
   ]
  },
  {
   "cell_type": "code",
   "execution_count": null,
   "id": "88e51b31-bcbd-4ef7-930b-70b423235f95",
   "metadata": {},
   "outputs": [],
   "source": [
    "import pandas as pd\n",
    "# Crear un diccionario con datos ficticios\n",
    "datos = {\n",
    "    'ID': [1, 2, 3, 4, 5],\n",
    "    'Nombre': ['Producto A', 'Producto B', 'Producto C', 'Producto D', 'Producto E'],\n",
    "    'Cantidad': [10, 5, 8, 15, 3],\n",
    "    'Precio': [20.5, 10.0, 15.0, 50.0, 5.0],\n",
    "    'Categoría': ['Electrónica', 'Hogar', 'Electrónica', 'Deportes', 'Hogar']\n",
    "}\n",
    "\n",
    "# Crear un DataFrame y guardar como CSV\n",
    "df = pd.DataFrame(datos)\n",
    "archivo_csv = 'productos.csv'\n",
    "df.to_csv(archivo_csv, index=False)\n",
    "print(f\"Archivo CSV creado: {archivo_csv}\")"
   ]
  },
  {
   "cell_type": "markdown",
   "id": "0fc03167-8094-459c-a8c5-60a38e532eac",
   "metadata": {},
   "source": [
    "## 2. Agregar Nuevas Columnas"
   ]
  },
  {
   "cell_type": "code",
   "execution_count": 7,
   "id": "6e5aa815-1902-485c-bc9d-ce446350e575",
   "metadata": {},
   "outputs": [
    {
     "name": "stdout",
     "output_type": "stream",
     "text": [
      "Archivo actualizado guardado: productos_actualizados.csv\n"
     ]
    }
   ],
   "source": [
    "# Leer archivo CSV\n",
    "df = pd.read_csv('productos.csv')\n",
    "\n",
    "# Agregar columnas\n",
    "df['Valor_Total'] = df['Cantidad'] * df['Precio']\n",
    "df['Stock_Bajo'] = df['Cantidad'].apply(lambda x: 'Sí' if x < 5 else 'No')\n",
    "\n",
    "# Guardar el archivo actualizado\n",
    "archivo_actualizado = 'productos_actualizados.csv'\n",
    "df.to_csv(archivo_actualizado, index=False)\n",
    "print(f\"Archivo actualizado guardado: {archivo_actualizado}\")\n",
    "\n"
   ]
  },
  {
   "cell_type": "markdown",
   "id": "132f4b01-e832-4467-a69f-9dc6d07f38ec",
   "metadata": {},
   "source": [
    "## 3. Analizar Datos"
   ]
  },
  {
   "cell_type": "code",
   "execution_count": 11,
   "id": "449a47a6-14f6-410a-ada1-f580166ac40e",
   "metadata": {},
   "outputs": [
    {
     "name": "stdout",
     "output_type": "stream",
     "text": [
      "Precio promedio: 20.1\n",
      "Valor máximo: 750.0\n",
      "Valor mínimo: 15.0\n"
     ]
    }
   ],
   "source": [
    "# Estadísticas básicas\n",
    "precio_promedio = df['Precio'].mean()\n",
    "valor_maximo = df['Valor_Total'].max()\n",
    "valor_minimo = df['Valor_Total'].min()\n",
    "\n",
    "print(f\"Precio promedio: {precio_promedio}\")\n",
    "print(f\"Valor máximo: {valor_maximo}\")\n",
    "print(f\"Valor mínimo: {valor_minimo}\")"
   ]
  },
  {
   "cell_type": "markdown",
   "id": "367351e8-8ed7-4d28-8d0d-c3931549e0ab",
   "metadata": {},
   "source": [
    "## 4. Filtrar y Aplicar Condiciones"
   ]
  },
  {
   "cell_type": "code",
   "execution_count": 14,
   "id": "2064347a-f631-4921-acbc-4086f55b833f",
   "metadata": {},
   "outputs": [
    {
     "name": "stdout",
     "output_type": "stream",
     "text": [
      "Productos filtrados:\n",
      "   ID      Nombre  Cantidad  Precio    Categoría  Valor_Total Stock_Bajo\n",
      "0   1  Producto A        10    20.5  Electrónica        205.0         No\n",
      "2   3  Producto C         8    15.0  Electrónica        120.0         No\n",
      "Archivo filtrado guardado: productos_filtrados.csv\n"
     ]
    }
   ],
   "source": [
    "# Filtrar datos\n",
    "filtro = df[(df['Categoría'] == 'Electrónica') & (df['Valor_Total'] > 100)]\n",
    "print(\"Productos filtrados:\")\n",
    "print(filtro)\n",
    "\n",
    "# Guardar los datos filtrados\n",
    "archivo_filtrado = 'productos_filtrados.csv'\n",
    "filtro.to_csv(archivo_filtrado, index=False)\n",
    "print(f\"Archivo filtrado guardado: {archivo_filtrado}\")"
   ]
  },
  {
   "cell_type": "markdown",
   "id": "5a996a37-6b42-427c-9904-6078bc002672",
   "metadata": {},
   "source": [
    "## 5. Convertir a Excel"
   ]
  },
  {
   "cell_type": "code",
   "execution_count": 17,
   "id": "911d12d8-d03c-41e4-b882-42432dded4da",
   "metadata": {},
   "outputs": [
    {
     "name": "stdout",
     "output_type": "stream",
     "text": [
      "Archivo Excel guardado: productos_actualizados.xlsx\n"
     ]
    }
   ],
   "source": [
    "from openpyxl import Workbook\n",
    "from openpyxl.utils.dataframe import dataframe_to_rows\n",
    "from openpyxl.styles import Font\n",
    "\n",
    "# Crear un libro de Excel\n",
    "wb = Workbook()\n",
    "ws = wb.active\n",
    "ws.title = \"Productos Actualizados\"\n",
    "\n",
    "# Agregar datos del DataFrame al Excel\n",
    "for r in dataframe_to_rows(df, index=False, header=True):\n",
    "    ws.append(r)\n",
    "\n",
    "# Aplicar estilo al encabezado\n",
    "for cell in ws[1]:\n",
    "    cell.font = Font(bold=True)\n",
    "\n",
    "# Guardar el archivo Excel\n",
    "archivo_excel = 'productos_actualizados.xlsx'\n",
    "wb.save(archivo_excel)\n",
    "print(f\"Archivo Excel guardado: {archivo_excel}\")"
   ]
  },
  {
   "cell_type": "code",
   "execution_count": null,
   "id": "176a7e5e-0da8-4e2c-8470-c778c3747a71",
   "metadata": {},
   "outputs": [],
   "source": []
  }
 ],
 "metadata": {
  "kernelspec": {
   "display_name": "Python 3 (ipykernel)",
   "language": "python",
   "name": "python3"
  },
  "language_info": {
   "codemirror_mode": {
    "name": "ipython",
    "version": 3
   },
   "file_extension": ".py",
   "mimetype": "text/x-python",
   "name": "python",
   "nbconvert_exporter": "python",
   "pygments_lexer": "ipython3",
   "version": "3.12.7"
  }
 },
 "nbformat": 4,
 "nbformat_minor": 5
}
