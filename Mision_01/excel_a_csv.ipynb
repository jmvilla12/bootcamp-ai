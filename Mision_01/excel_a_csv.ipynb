{
 "cells": [
  {
   "cell_type": "markdown",
   "id": "065e96cf-7a46-42ac-b6e0-5d188d15c63a",
   "metadata": {},
   "source": [
    "# Ejercicio 2: Leer un archivo Excel y convertirlo a CSV"
   ]
  },
  {
   "cell_type": "code",
   "execution_count": 11,
   "id": "bd28c657-9db3-4280-9c91-ba3931146705",
   "metadata": {},
   "outputs": [],
   "source": [
    "# Leer el archivo Excel\n",
    "import pandas as pd\n",
    "archivo_excel = 'archivo_convertido.xlsx'\n",
    "datos_excel = pd.read_excel(archivo_excel)"
   ]
  },
  {
   "cell_type": "code",
   "execution_count": 12,
   "id": "9ef0ded9-dbe3-4e50-a565-8a554e2de972",
   "metadata": {},
   "outputs": [
    {
     "name": "stdout",
     "output_type": "stream",
     "text": [
      "Contenido del Excel:\n",
      "   Documento    Nombre   Apellido                 Correo     Celular  Nota1  \\\n",
      "0   81025364     Lucía  Rodríguez  campista1@example.com  3080348138   0.45   \n",
      "1   34581610     Mateo      Bravo  campista2@example.com  3000183150   1.33   \n",
      "2   24709014    Felipe     Moreno  campista3@example.com  3040011576   3.97   \n",
      "3   78895567    Felipe     Suárez  campista4@example.com  3138758282   2.55   \n",
      "4   22523818  Santiago      Gómez  campista5@example.com  3189515605   0.88   \n",
      "\n",
      "   Nota2  Nota3  Definitiva  \n",
      "0   0.10   2.53        1.03  \n",
      "1   2.38   1.61        1.77  \n",
      "2   4.17   3.00        3.71  \n",
      "3   2.07   1.66        2.09  \n",
      "4   1.75   0.39        1.01  \n"
     ]
    }
   ],
   "source": [
    "# Mostrar información del Excel\n",
    "print(\"Contenido del Excel:\")\n",
    "print(datos_excel.head())"
   ]
  },
  {
   "cell_type": "code",
   "execution_count": 13,
   "id": "f14edd94-0f9c-4347-864e-be552ba5b4d5",
   "metadata": {},
   "outputs": [
    {
     "name": "stdout",
     "output_type": "stream",
     "text": [
      "Archivo convertido a CSV: archivo_nuevo.csv\n"
     ]
    }
   ],
   "source": [
    "# Convertir a CSV\n",
    "archivo_csv = 'archivo_nuevo.csv'\n",
    "datos_excel.to_csv(archivo_csv, index=False)\n",
    "print(f\"Archivo convertido a CSV: {archivo_csv}\")"
   ]
  }
 ],
 "metadata": {
  "kernelspec": {
   "display_name": "Python 3 (ipykernel)",
   "language": "python",
   "name": "python3"
  },
  "language_info": {
   "codemirror_mode": {
    "name": "ipython",
    "version": 3
   },
   "file_extension": ".py",
   "mimetype": "text/x-python",
   "name": "python",
   "nbconvert_exporter": "python",
   "pygments_lexer": "ipython3",
   "version": "3.12.7"
  }
 },
 "nbformat": 4,
 "nbformat_minor": 5
}
