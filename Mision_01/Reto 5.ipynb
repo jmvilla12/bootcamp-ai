{
 "cells": [
  {
   "cell_type": "markdown",
   "id": "40239edb-337c-40bc-b10b-dab8c2be588d",
   "metadata": {},
   "source": [
    "# Reto 5: Análisis y Generación de Informes con Pandas y OpenPyXL"
   ]
  },
  {
   "cell_type": "code",
   "execution_count": 8,
   "id": "cbfccddc-b78a-4dbf-b661-8acad5bcbb5a",
   "metadata": {},
   "outputs": [],
   "source": [
    "# 1. Agregar la Columna 'Aprobado'\n",
    "import pandas as pd\n",
    "# Leer archivo CSV\n",
    "archivo_csv = 'campistas.csv'\n",
    "df = pd.read_csv(archivo_csv)\n",
    "\n",
    "# Calcular la nota promedio\n",
    "df['Nota_Promedio'] = df[['Nota1', 'Nota2', 'Nota3']].mean(axis=1)\n",
    "\n",
    "# Agregar columna 'Aprobado' basada en la nota promedio\n",
    "df['Aprobado'] = df['Nota_Promedio'].apply(lambda x: 'Aprobado' if x >= 3.0 else 'No Aprobado')\n",
    "# print(df)"
   ]
  },
  {
   "cell_type": "code",
   "execution_count": 12,
   "id": "bab1d7fa-0edc-4b45-9e5e-bd8e431824f7",
   "metadata": {},
   "outputs": [
    {
     "name": "stdout",
     "output_type": "stream",
     "text": [
      "Estadísticas:\n",
      "Aprobado\n",
      "No Aprobado    25\n",
      "Aprobado        5\n",
      "Name: count, dtype: int64\n",
      "Nota promedio: 2.35\n",
      "Nota máxima: 4.816666666666666\n",
      "Nota mínima: 0.9700000000000001\n"
     ]
    }
   ],
   "source": [
    "#2. Calcular Estadísticas\n",
    "# Cantidad de aprobados y no aprobados\n",
    "conteo_aprobados = df['Aprobado'].value_counts()\n",
    "\n",
    "# Nota promedio, máxima y mínima\n",
    "nota_promedio = df['Nota_Promedio'].mean()\n",
    "nota_maxima = df['Nota_Promedio'].max()\n",
    "nota_minima = df['Nota_Promedio'].min()\n",
    "\n",
    "# Mostrar estadísticas\n",
    "print(\"Estadísticas:\")\n",
    "print(conteo_aprobados)\n",
    "print(f\"Nota promedio: {nota_promedio:.2f}\")\n",
    "print(f\"Nota máxima: {nota_maxima}\")\n",
    "print(f\"Nota mínima: {nota_minima}\")"
   ]
  },
  {
   "cell_type": "code",
   "execution_count": 18,
   "id": "edd16250-ff5e-43d9-9157-c95086e4aad3",
   "metadata": {},
   "outputs": [
    {
     "name": "stdout",
     "output_type": "stream",
     "text": [
      "Informe guardado como: campistas_informe.xlsx\n"
     ]
    }
   ],
   "source": [
    "# 3. Crear un Informe en Excel\n",
    "from openpyxl import Workbook\n",
    "from openpyxl.utils.dataframe import dataframe_to_rows\n",
    "from openpyxl.styles import Font\n",
    "wb = Workbook()\n",
    "\n",
    "# Hoja 1: Datos Actualizados\n",
    "ws1 = wb.active\n",
    "ws1.title = \"Datos Actualizados\"\n",
    "for r in dataframe_to_rows(df, index=False, header=True):\n",
    "    ws1.append(r)\n",
    "for cell in ws1[1]:\n",
    "    cell.font = Font(bold=True)\n",
    "\n",
    "# Hoja 2: Estadísticas\n",
    "ws2 = wb.create_sheet(title=\"Estadísticas\")\n",
    "ws2.append([\"Métrica\", \"Valor\"])\n",
    "ws2.append([\"Aprobados\", conteo_aprobados.get(\"Aprobado\", 0)])\n",
    "ws2.append([\"No Aprobados\", conteo_aprobados.get(\"No Aprobado\", 0)])\n",
    "ws2.append([\"Nota Promedio\", f\"{nota_promedio:.2f}\"])\n",
    "ws2.append([\"Nota Máxima\", nota_maxima])\n",
    "ws2.append([\"Nota Mínima\", nota_minima])\n",
    "for cell in ws2[1]:\n",
    "    cell.font = Font(bold=True)\n",
    "\n",
    "# Guardar el archivo Excel\n",
    "archivo_excel = 'campistas_informe.xlsx'\n",
    "wb.save(archivo_excel)\n",
    "print(f\"Informe guardado como: {archivo_excel}\")"
   ]
  },
  {
   "cell_type": "code",
   "execution_count": null,
   "id": "2ca6e046-ddbd-42b5-82d0-fe197a368301",
   "metadata": {},
   "outputs": [],
   "source": []
  }
 ],
 "metadata": {
  "kernelspec": {
   "display_name": "Python 3 (ipykernel)",
   "language": "python",
   "name": "python3"
  },
  "language_info": {
   "codemirror_mode": {
    "name": "ipython",
    "version": 3
   },
   "file_extension": ".py",
   "mimetype": "text/x-python",
   "name": "python",
   "nbconvert_exporter": "python",
   "pygments_lexer": "ipython3",
   "version": "3.12.7"
  }
 },
 "nbformat": 4,
 "nbformat_minor": 5
}
