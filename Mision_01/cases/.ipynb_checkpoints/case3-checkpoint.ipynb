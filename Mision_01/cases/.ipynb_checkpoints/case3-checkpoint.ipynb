{
 "cells": [
  {
   "cell_type": "markdown",
   "id": "0ba73b29-c8c1-47a7-b314-8e64c81c4b60",
   "metadata": {},
   "source": [
    "# Caso 3\n",
    "Fecha: 24/11/2024\n",
    "### Integrantes\n",
    "- Jose Manuel Villa Romero\n",
    "- Sebastian Vasquez Grajales\n",
    "- Juan Camilo Castaño Marulanda\n",
    "\n",
    "## 1. Preparación del Conjuntos de Datos:\n",
    "Encontramos un dataset genérico en la página de Kaggle sobre distintas especies de la flor iris.  \n",
    "DataSet: [Link](https://www.kaggle.com/datasets/uciml/iris?select=Iris.csv)\n"
   ]
  },
  {
   "cell_type": "code",
   "execution_count": 5,
   "id": "50cef048-3256-42f8-b0bd-9302c6fd64f4",
   "metadata": {},
   "outputs": [],
   "source": [
    "import pandas as pd\n",
    "from sklearn.preprocessing import StandardScaler\n",
    "archivo_csv = 'iris.csv'\n",
    "datos_csv = pd.read_csv(archivo_csv)"
   ]
  },
  {
   "cell_type": "code",
   "execution_count": 6,
   "id": "dc059a0d-8f8c-40a6-bc8f-770d8d4c02b0",
   "metadata": {},
   "outputs": [
    {
     "name": "stdout",
     "output_type": "stream",
     "text": [
      "Requirement already satisfied: scikit-learn in c:\\users\\jmvil\\anaconda3\\envs\\casos1\\lib\\site-packages (1.5.2)\n",
      "Requirement already satisfied: numpy>=1.19.5 in c:\\users\\jmvil\\anaconda3\\envs\\casos1\\lib\\site-packages (from scikit-learn) (1.26.4)\n",
      "Requirement already satisfied: scipy>=1.6.0 in c:\\users\\jmvil\\anaconda3\\envs\\casos1\\lib\\site-packages (from scikit-learn) (1.14.1)\n",
      "Requirement already satisfied: joblib>=1.2.0 in c:\\users\\jmvil\\anaconda3\\envs\\casos1\\lib\\site-packages (from scikit-learn) (1.4.2)\n",
      "Requirement already satisfied: threadpoolctl>=3.1.0 in c:\\users\\jmvil\\anaconda3\\envs\\casos1\\lib\\site-packages (from scikit-learn) (3.5.0)\n",
      "Note: you may need to restart the kernel to use updated packages.\n"
     ]
    }
   ],
   "source": [
    "# you need to install the scikit-learn library\n",
    "# pip install scikit-learn"
   ]
  },
  {
   "cell_type": "code",
   "execution_count": 7,
   "id": "9a1f8fb9-56aa-419f-9b40-ad517801528f",
   "metadata": {},
   "outputs": [
    {
     "data": {
      "text/plain": [
       "Index(['Id', 'SepalLengthCm', 'SepalWidthCm', 'PetalLengthCm', 'PetalWidthCm',\n",
       "       'Species'],\n",
       "      dtype='object')"
      ]
     },
     "execution_count": 7,
     "metadata": {},
     "output_type": "execute_result"
    }
   ],
   "source": [
    "df = pd.DataFrame(datos_csv)\n",
    "df.columns"
   ]
  },
  {
   "cell_type": "code",
   "execution_count": null,
   "id": "625e2463-d512-4ae5-9bc8-e157f6abfe20",
   "metadata": {},
   "outputs": [],
   "source": []
  }
 ],
 "metadata": {
  "kernelspec": {
   "display_name": "Python 3 (ipykernel)",
   "language": "python",
   "name": "python3"
  },
  "language_info": {
   "codemirror_mode": {
    "name": "ipython",
    "version": 3
   },
   "file_extension": ".py",
   "mimetype": "text/x-python",
   "name": "python",
   "nbconvert_exporter": "python",
   "pygments_lexer": "ipython3",
   "version": "3.12.7"
  }
 },
 "nbformat": 4,
 "nbformat_minor": 5
}
