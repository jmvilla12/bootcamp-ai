{
 "cells": [
  {
   "cell_type": "markdown",
   "id": "0b5b3965-d163-43d2-a4df-1c10e1df27fc",
   "metadata": {},
   "source": [
    "# Reto 3"
   ]
  },
  {
   "cell_type": "markdown",
   "id": "e896b0ce-f8dd-45ab-af54-52612eb14b90",
   "metadata": {},
   "source": [
    "## Crear una matriz 3x3"
   ]
  },
  {
   "cell_type": "code",
   "execution_count": 6,
   "id": "1a46a25d-2174-4490-af3d-954d65b6f152",
   "metadata": {},
   "outputs": [],
   "source": [
    "matriz = [\n",
    "    [1, 2, 3],\n",
    "    [4, 5, 6],\n",
    "    [7, 8, 9]\n",
    "]"
   ]
  },
  {
   "cell_type": "markdown",
   "id": "280b11f6-f58b-42a5-9669-fb144a6c3b63",
   "metadata": {},
   "source": [
    "## Imprimir la matriz"
   ]
  },
  {
   "cell_type": "code",
   "execution_count": 10,
   "id": "d0dfe09f-58a6-4d2b-981d-86a67cc837b9",
   "metadata": {},
   "outputs": [
    {
     "name": "stdout",
     "output_type": "stream",
     "text": [
      "[1, 2, 3]\n",
      "[4, 5, 6]\n",
      "[7, 8, 9]\n"
     ]
    }
   ],
   "source": [
    "for fila in matriz:\n",
    "    print(fila)"
   ]
  },
  {
   "cell_type": "markdown",
   "id": "6fee9ad2-d0a0-4ec4-9f64-f703a0144dfc",
   "metadata": {},
   "source": [
    "## Acceder a un elemento"
   ]
  },
  {
   "cell_type": "code",
   "execution_count": 13,
   "id": "419e4557-67f9-46d8-a21b-4ecb1d348301",
   "metadata": {},
   "outputs": [
    {
     "name": "stdout",
     "output_type": "stream",
     "text": [
      "Elemento en [1][2]: 6\n"
     ]
    }
   ],
   "source": [
    "print(\"Elemento en [1][2]:\", matriz[1][2])"
   ]
  }
 ],
 "metadata": {
  "kernelspec": {
   "display_name": "Python 3 (ipykernel)",
   "language": "python",
   "name": "python3"
  },
  "language_info": {
   "codemirror_mode": {
    "name": "ipython",
    "version": 3
   },
   "file_extension": ".py",
   "mimetype": "text/x-python",
   "name": "python",
   "nbconvert_exporter": "python",
   "pygments_lexer": "ipython3",
   "version": "3.12.7"
  }
 },
 "nbformat": 4,
 "nbformat_minor": 5
}
