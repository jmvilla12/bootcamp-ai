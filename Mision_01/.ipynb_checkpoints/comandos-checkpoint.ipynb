{
 "cells": [
  {
   "cell_type": "markdown",
   "id": "e77179cc-ea75-4b38-9fb2-395c8dd56fc9",
   "metadata": {},
   "source": [
    "# Reto 3\n",
    "## Comandos para gestionar ambientes virtuales en Python"
   ]
  },
  {
   "cell_type": "markdown",
   "id": "51916ba2-019f-4305-a795-7249a4d772c5",
   "metadata": {},
   "source": [
    "### Listar ambientes virtuales\n",
    "```bash\n",
    "conda env list\n",
    "```\n",
    "\n",
    "### Activar ambiente virtual\n",
    "```bash\n",
    "conda activate your_env_name\n",
    "```\n",
    "\n",
    "### Desactivar ambiente virtual\n",
    "```bash\n",
    "conda deactivate\n",
    "```\n",
    "\n",
    "### Borrar ambiente virtual\n",
    "```bash\n",
    "conda env remove -n your_env_name\n",
    "```"
   ]
  }
 ],
 "metadata": {
  "kernelspec": {
   "display_name": "Python 3 (ipykernel)",
   "language": "python",
   "name": "python3"
  },
  "language_info": {
   "codemirror_mode": {
    "name": "ipython",
    "version": 3
   },
   "file_extension": ".py",
   "mimetype": "text/x-python",
   "name": "python",
   "nbconvert_exporter": "python",
   "pygments_lexer": "ipython3",
   "version": "3.9.20"
  }
 },
 "nbformat": 4,
 "nbformat_minor": 5
}
