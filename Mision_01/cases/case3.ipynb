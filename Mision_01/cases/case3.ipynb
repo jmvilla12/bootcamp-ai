{
 "cells": [
  {
   "cell_type": "markdown",
   "id": "0ba73b29-c8c1-47a7-b314-8e64c81c4b60",
   "metadata": {},
   "source": [
    "# Caso 3\n",
    "Fecha: 24/11/2024\n",
    "### Integrantes\n",
    "- Jose Manuel Villa Romero\n",
    "- Sebastian Vasquez Grajales\n",
    "- Juan Camilo Castaño Marulanda\n",
    "\n",
    "## 1. Preparación del Conjuntos de Datos:\n",
    "Encontramos un dataset genérico en la página de Kaggle sobre distintas especies de la flor iris.  \n",
    "DataSet: [Link](https://www.kaggle.com/datasets/uciml/iris?select=Iris.csv)\n"
   ]
  },
  {
   "cell_type": "code",
   "execution_count": 55,
   "id": "50cef048-3256-42f8-b0bd-9302c6fd64f4",
   "metadata": {},
   "outputs": [
    {
     "name": "stdout",
     "output_type": "stream",
     "text": [
      "<class 'pandas.core.frame.DataFrame'>\n",
      "RangeIndex: 150 entries, 0 to 149\n",
      "Data columns (total 6 columns):\n",
      " #   Column         Non-Null Count  Dtype  \n",
      "---  ------         --------------  -----  \n",
      " 0   Id             150 non-null    int64  \n",
      " 1   SepalLengthCm  150 non-null    float64\n",
      " 2   SepalWidthCm   150 non-null    float64\n",
      " 3   PetalLengthCm  150 non-null    float64\n",
      " 4   PetalWidthCm   150 non-null    float64\n",
      " 5   Species        150 non-null    object \n",
      "dtypes: float64(4), int64(1), object(1)\n",
      "memory usage: 7.2+ KB\n"
     ]
    }
   ],
   "source": [
    "import pandas as pd\n",
    "\n",
    "archivo_csv = 'iris.csv'\n",
    "datos_csv = pd.read_csv(archivo_csv)\n",
    "df = pd.DataFrame(datos_csv)\n",
    "df.info()"
   ]
  },
  {
   "cell_type": "code",
   "execution_count": 56,
   "id": "625e2463-d512-4ae5-9bc8-e157f6abfe20",
   "metadata": {},
   "outputs": [
    {
     "data": {
      "text/html": [
       "<div>\n",
       "<style scoped>\n",
       "    .dataframe tbody tr th:only-of-type {\n",
       "        vertical-align: middle;\n",
       "    }\n",
       "\n",
       "    .dataframe tbody tr th {\n",
       "        vertical-align: top;\n",
       "    }\n",
       "\n",
       "    .dataframe thead th {\n",
       "        text-align: right;\n",
       "    }\n",
       "</style>\n",
       "<table border=\"1\" class=\"dataframe\">\n",
       "  <thead>\n",
       "    <tr style=\"text-align: right;\">\n",
       "      <th></th>\n",
       "      <th>SepalLengthCm</th>\n",
       "      <th>SepalWidthCm</th>\n",
       "      <th>PetalLengthCm</th>\n",
       "      <th>PetalWidthCm</th>\n",
       "    </tr>\n",
       "  </thead>\n",
       "  <tbody>\n",
       "    <tr>\n",
       "      <th>0</th>\n",
       "      <td>-0.900681</td>\n",
       "      <td>1.032057</td>\n",
       "      <td>-1.341272</td>\n",
       "      <td>-1.312977</td>\n",
       "    </tr>\n",
       "    <tr>\n",
       "      <th>1</th>\n",
       "      <td>-1.143017</td>\n",
       "      <td>-0.124958</td>\n",
       "      <td>-1.341272</td>\n",
       "      <td>-1.312977</td>\n",
       "    </tr>\n",
       "    <tr>\n",
       "      <th>2</th>\n",
       "      <td>-1.385353</td>\n",
       "      <td>0.337848</td>\n",
       "      <td>-1.398138</td>\n",
       "      <td>-1.312977</td>\n",
       "    </tr>\n",
       "    <tr>\n",
       "      <th>3</th>\n",
       "      <td>-1.506521</td>\n",
       "      <td>0.106445</td>\n",
       "      <td>-1.284407</td>\n",
       "      <td>-1.312977</td>\n",
       "    </tr>\n",
       "    <tr>\n",
       "      <th>4</th>\n",
       "      <td>-1.021849</td>\n",
       "      <td>1.263460</td>\n",
       "      <td>-1.341272</td>\n",
       "      <td>-1.312977</td>\n",
       "    </tr>\n",
       "  </tbody>\n",
       "</table>\n",
       "</div>"
      ],
      "text/plain": [
       "   SepalLengthCm  SepalWidthCm  PetalLengthCm  PetalWidthCm\n",
       "0      -0.900681      1.032057      -1.341272     -1.312977\n",
       "1      -1.143017     -0.124958      -1.341272     -1.312977\n",
       "2      -1.385353      0.337848      -1.398138     -1.312977\n",
       "3      -1.506521      0.106445      -1.284407     -1.312977\n",
       "4      -1.021849      1.263460      -1.341272     -1.312977"
      ]
     },
     "execution_count": 56,
     "metadata": {},
     "output_type": "execute_result"
    }
   ],
   "source": [
    "# Solo utilizo las columnas con valores numéricos, logicamente excluyo el ID ya que este no se modifica\n",
    "my_columns = ['SepalLengthCm', 'SepalWidthCm', 'PetalLengthCm', 'PetalWidthCm']\n",
    "numeric_data = df[my_columns]\n",
    "\n",
    "# you need to install the scikit-learn library\n",
    "# pip install scikit-learn\n",
    "\n",
    "from sklearn.preprocessing import StandardScaler\n",
    "# Estandarización de datos\n",
    "scaler = StandardScaler()\n",
    "data_scaled = scaler.fit_transform(numeric_data)\n",
    "\n",
    "# Convierto de nuevo a DataFrame para facilitar el análisis\n",
    "data_scaled_df = pd.DataFrame(data_scaled, columns=my_columns)\n",
    "data_scaled_df.head() #Miro las primeras filas"
   ]
  },
  {
   "cell_type": "markdown",
   "id": "17a09f69-8072-43b2-a520-eded7a12bc42",
   "metadata": {},
   "source": [
    "## 2. Aplicación del PCA:"
   ]
  },
  {
   "cell_type": "code",
   "execution_count": 57,
   "id": "45237ae2-e41f-4be9-ae23-fe322005a907",
   "metadata": {},
   "outputs": [
    {
     "data": {
      "text/html": [
       "<div>\n",
       "<style scoped>\n",
       "    .dataframe tbody tr th:only-of-type {\n",
       "        vertical-align: middle;\n",
       "    }\n",
       "\n",
       "    .dataframe tbody tr th {\n",
       "        vertical-align: top;\n",
       "    }\n",
       "\n",
       "    .dataframe thead th {\n",
       "        text-align: right;\n",
       "    }\n",
       "</style>\n",
       "<table border=\"1\" class=\"dataframe\">\n",
       "  <thead>\n",
       "    <tr style=\"text-align: right;\">\n",
       "      <th></th>\n",
       "      <th>PC1</th>\n",
       "      <th>PC2</th>\n",
       "      <th>PC3</th>\n",
       "      <th>PC4</th>\n",
       "    </tr>\n",
       "  </thead>\n",
       "  <tbody>\n",
       "    <tr>\n",
       "      <th>0</th>\n",
       "      <td>-2.264542</td>\n",
       "      <td>0.505704</td>\n",
       "      <td>0.121943</td>\n",
       "      <td>-0.023073</td>\n",
       "    </tr>\n",
       "    <tr>\n",
       "      <th>1</th>\n",
       "      <td>-2.086426</td>\n",
       "      <td>-0.655405</td>\n",
       "      <td>0.227251</td>\n",
       "      <td>-0.103208</td>\n",
       "    </tr>\n",
       "    <tr>\n",
       "      <th>2</th>\n",
       "      <td>-2.367950</td>\n",
       "      <td>-0.318477</td>\n",
       "      <td>-0.051480</td>\n",
       "      <td>-0.027825</td>\n",
       "    </tr>\n",
       "    <tr>\n",
       "      <th>3</th>\n",
       "      <td>-2.304197</td>\n",
       "      <td>-0.575368</td>\n",
       "      <td>-0.098860</td>\n",
       "      <td>0.066311</td>\n",
       "    </tr>\n",
       "    <tr>\n",
       "      <th>4</th>\n",
       "      <td>-2.388777</td>\n",
       "      <td>0.674767</td>\n",
       "      <td>-0.021428</td>\n",
       "      <td>0.037397</td>\n",
       "    </tr>\n",
       "    <tr>\n",
       "      <th>...</th>\n",
       "      <td>...</td>\n",
       "      <td>...</td>\n",
       "      <td>...</td>\n",
       "      <td>...</td>\n",
       "    </tr>\n",
       "    <tr>\n",
       "      <th>145</th>\n",
       "      <td>1.870522</td>\n",
       "      <td>0.382822</td>\n",
       "      <td>-0.254532</td>\n",
       "      <td>-0.388890</td>\n",
       "    </tr>\n",
       "    <tr>\n",
       "      <th>146</th>\n",
       "      <td>1.558492</td>\n",
       "      <td>-0.905314</td>\n",
       "      <td>0.025382</td>\n",
       "      <td>-0.221322</td>\n",
       "    </tr>\n",
       "    <tr>\n",
       "      <th>147</th>\n",
       "      <td>1.520845</td>\n",
       "      <td>0.266795</td>\n",
       "      <td>-0.179277</td>\n",
       "      <td>-0.118903</td>\n",
       "    </tr>\n",
       "    <tr>\n",
       "      <th>148</th>\n",
       "      <td>1.376391</td>\n",
       "      <td>1.016362</td>\n",
       "      <td>-0.931405</td>\n",
       "      <td>-0.024146</td>\n",
       "    </tr>\n",
       "    <tr>\n",
       "      <th>149</th>\n",
       "      <td>0.959299</td>\n",
       "      <td>-0.022284</td>\n",
       "      <td>-0.528794</td>\n",
       "      <td>0.163676</td>\n",
       "    </tr>\n",
       "  </tbody>\n",
       "</table>\n",
       "<p>150 rows × 4 columns</p>\n",
       "</div>"
      ],
      "text/plain": [
       "          PC1       PC2       PC3       PC4\n",
       "0   -2.264542  0.505704  0.121943 -0.023073\n",
       "1   -2.086426 -0.655405  0.227251 -0.103208\n",
       "2   -2.367950 -0.318477 -0.051480 -0.027825\n",
       "3   -2.304197 -0.575368 -0.098860  0.066311\n",
       "4   -2.388777  0.674767 -0.021428  0.037397\n",
       "..        ...       ...       ...       ...\n",
       "145  1.870522  0.382822 -0.254532 -0.388890\n",
       "146  1.558492 -0.905314  0.025382 -0.221322\n",
       "147  1.520845  0.266795 -0.179277 -0.118903\n",
       "148  1.376391  1.016362 -0.931405 -0.024146\n",
       "149  0.959299 -0.022284 -0.528794  0.163676\n",
       "\n",
       "[150 rows x 4 columns]"
      ]
     },
     "execution_count": 57,
     "metadata": {},
     "output_type": "execute_result"
    }
   ],
   "source": [
    "# Aplicando el PCA\n",
    "from sklearn.decomposition import PCA\n",
    "pca = PCA()\n",
    "data_pca = pca.fit_transform(data_scaled_df)\n",
    "\n",
    "# Convierte los componentes principales a un DataFrame\n",
    "pca_df = pd.DataFrame(data_pca, columns=[f'PC{i+1}' for i in range(data_pca.shape[1])])\n",
    "pca_df"
   ]
  },
  {
   "cell_type": "markdown",
   "id": "9e328587-1466-471e-b087-ab9c99767873",
   "metadata": {},
   "source": [
    "## 3. Visualización de los Resultados de PCA:\n",
    "### Gráficos de dispersión"
   ]
  },
  {
   "cell_type": "code",
   "execution_count": 58,
   "id": "10c8ac35-04b5-442d-8e9e-6ef6d4c7329f",
   "metadata": {},
   "outputs": [
    {
     "data": {
      "image/png": "[encoded data removed]",
      "text/plain": [
       "<Figure size 800x600 with 1 Axes>"
      ]
     },
     "metadata": {},
     "output_type": "display_data"
    }
   ],
   "source": [
    "# Instalo las librerías matplotlib y seaborn\n",
    "# pip install matplotlib\n",
    "# pip install seaborn\n",
    "\n",
    "import matplotlib.pyplot as plt\n",
    "import seaborn as sns\n",
    "\n",
    "# Gráfico de dispersión\n",
    "plt.figure(figsize=(8, 6))\n",
    "sns.scatterplot(x=pca_df['PC1'], y=pca_df['PC2'])\n",
    "plt.title('Gráfico de dispersión: PC1 vs PC2')\n",
    "plt.xlabel('PC1')\n",
    "plt.ylabel('PC2')\n",
    "plt.grid()\n",
    "plt.show()"
   ]
  },
  {
   "cell_type": "markdown",
   "id": "5dc7a3f3-55fa-4a8f-8ae3-eceea627b875",
   "metadata": {},
   "source": [
    "### Gráfico de codo (varianza)"
   ]
  },
  {
   "cell_type": "code",
   "execution_count": 59,
   "id": "9c4076e0-7046-480f-8fbb-f03c9d27b1fe",
   "metadata": {},
   "outputs": [
    {
     "data": {
      "image/png": "[encoded data removed]",
      "text/plain": [
       "<Figure size 800x600 with 1 Axes>"
      ]
     },
     "metadata": {},
     "output_type": "display_data"
    }
   ],
   "source": [
    "# Calcula la varianza explicada acumulada\n",
    "explained_variance = pca.explained_variance_ratio_\n",
    "cumulative_variance = explained_variance.cumsum()\n",
    "\n",
    "# Gráfico de codo\n",
    "plt.figure(figsize=(8, 6))\n",
    "plt.plot(range(1, len(cumulative_variance) + 1), cumulative_variance, marker='o', linestyle='--')\n",
    "plt.title('Gráfico de codo: Varianza acumulada')\n",
    "plt.xlabel('Número de componentes principales')\n",
    "plt.ylabel('Varianza explicada acumulada')\n",
    "plt.grid()\n",
    "plt.show()"
   ]
  },
  {
   "cell_type": "markdown",
   "id": "81ef6709-c699-4bd6-b76f-560d88d79607",
   "metadata": {},
   "source": [
    "## 4. Interpretación de los Componentes Principales\n",
    "a) Cargas de las variables en los componentes principales\n",
    "Las cargas indican qué tan influyente es cada variable en un componente principal:"
   ]
  },
  {
   "cell_type": "code",
   "execution_count": 60,
   "id": "20b7ac53-b554-489a-8253-d69cfe99b1b5",
   "metadata": {},
   "outputs": [
    {
     "name": "stdout",
     "output_type": "stream",
     "text": [
      "     SepalLengthCm  SepalWidthCm  PetalLengthCm  PetalWidthCm\n",
      "PC1       0.522372     -0.263355       0.581254      0.565611\n",
      "PC2       0.372318      0.925556       0.021095      0.065416\n",
      "PC3       0.721017     -0.242033      -0.140892     -0.633801\n",
      "PC4      -0.261996      0.124135       0.801154     -0.523546\n"
     ]
    }
   ],
   "source": [
    "# Cargas de las variables (eigenvectors)\n",
    "components = pd.DataFrame(pca.components_, columns=data_scaled_df.columns, index=[f'PC{i+1}' for i in range(len(pca.components_))])\n",
    "print(components)"
   ]
  },
  {
   "cell_type": "markdown",
   "id": "8b51f3cf-0609-479a-be9f-cfa1c3d5b3de",
   "metadata": {},
   "source": [
    "b) Análisis del peso relativo de los componentes"
   ]
  },
  {
   "cell_type": "code",
   "execution_count": 61,
   "id": "f2757ef9-8fea-46e3-9257-5c00ac62f3e8",
   "metadata": {},
   "outputs": [
    {
     "name": "stdout",
     "output_type": "stream",
     "text": [
      "Componente 1: 72.77% de varianza explicada\n",
      "Componente 2: 23.03% de varianza explicada\n",
      "Componente 3: 3.68% de varianza explicada\n",
      "Componente 4: 0.52% de varianza explicada\n"
     ]
    }
   ],
   "source": [
    "# Varianza explicada por componente\n",
    "for i, var in enumerate(explained_variance, start=1):\n",
    "    print(f\"Componente {i}: {var:.2%} de varianza explicada\")"
   ]
  }
 ],
 "metadata": {
  "kernelspec": {
   "display_name": "Python 3 (ipykernel)",
   "language": "python",
   "name": "python3"
  },
  "language_info": {
   "codemirror_mode": {
    "name": "ipython",
    "version": 3
   },
   "file_extension": ".py",
   "mimetype": "text/x-python",
   "name": "python",
   "nbconvert_exporter": "python",
   "pygments_lexer": "ipython3",
   "version": "3.12.7"
  }
 },
 "nbformat": 4,
 "nbformat_minor": 5
}
