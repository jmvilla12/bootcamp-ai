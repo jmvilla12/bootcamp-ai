{
 "cells": [
  {
   "cell_type": "markdown",
   "id": "431ff321-03fc-4da1-85b7-aab47d8a1e2c",
   "metadata": {},
   "source": [
    "# Reto 4\n",
    "## Ejercicio 1: Leer un CSV y convertirlo a Excel"
   ]
  },
  {
   "cell_type": "code",
   "execution_count": 14,
   "id": "19cc43bd-bb64-4640-9970-db6e49a0f027",
   "metadata": {},
   "outputs": [],
   "source": [
    "import pandas as pd\n",
    "# Leer el archivo CSV\n",
    "archivo_csv = \"campistas.csv\"\n",
    "datos_csv = pd.read_csv(archivo_csv)"
   ]
  },
  {
   "cell_type": "code",
   "execution_count": 15,
   "id": "c688dc9f-fe51-421b-baef-c3fdd4dafaa4",
   "metadata": {},
   "outputs": [
    {
     "name": "stdout",
     "output_type": "stream",
     "text": [
      "Contenido del CSV:\n",
      "   Documento    Nombre   Apellido                 Correo     Celular  Nota1  \\\n",
      "0   81025364     Lucía  Rodríguez  campista1@example.com  3080348138   0.45   \n",
      "1   34581610     Mateo      Bravo  campista2@example.com  3000183150   1.33   \n",
      "2   24709014    Felipe     Moreno  campista3@example.com  3040011576   3.97   \n",
      "3   78895567    Felipe     Suárez  campista4@example.com  3138758282   2.55   \n",
      "4   22523818  Santiago      Gómez  campista5@example.com  3189515605   0.88   \n",
      "\n",
      "   Nota2  Nota3  Definitiva  \n",
      "0   0.10   2.53        1.03  \n",
      "1   2.38   1.61        1.77  \n",
      "2   4.17   3.00        3.71  \n",
      "3   2.07   1.66        2.09  \n",
      "4   1.75   0.39        1.01  \n"
     ]
    }
   ],
   "source": [
    "# Mostrar información del CSV\n",
    "print(\"Contenido del CSV:\")\n",
    "print(datos_csv.head())"
   ]
  },
  {
   "cell_type": "code",
   "execution_count": 16,
   "id": "91fbec54-3ad9-4983-b0a7-8147c06c7a80",
   "metadata": {},
   "outputs": [
    {
     "name": "stdout",
     "output_type": "stream",
     "text": [
      "Archivo convertido a Excel: archivo_convertido.xlsx\n"
     ]
    }
   ],
   "source": [
    "# Convertir a Excel\n",
    "archivo_excel = 'archivo_convertido.xlsx'\n",
    "datos_csv.to_excel(archivo_excel, index=False, engine='openpyxl')\n",
    "print(f\"Archivo convertido a Excel: {archivo_excel}\")"
   ]
  }
 ],
 "metadata": {
  "kernelspec": {
   "display_name": "Python 3 (ipykernel)",
   "language": "python",
   "name": "python3"
  },
  "language_info": {
   "codemirror_mode": {
    "name": "ipython",
    "version": 3
   },
   "file_extension": ".py",
   "mimetype": "text/x-python",
   "name": "python",
   "nbconvert_exporter": "python",
   "pygments_lexer": "ipython3",
   "version": "3.12.7"
  }
 },
 "nbformat": 4,
 "nbformat_minor": 5
}
