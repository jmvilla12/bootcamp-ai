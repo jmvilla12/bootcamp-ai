{
 "cells": [
  {
   "cell_type": "markdown",
   "metadata": {},
   "source": [
    "# Dataset exploration"
   ]
  },
  {
   "cell_type": "code",
   "execution_count": null,
   "metadata": {},
   "outputs": [],
   "source": [
    "import pandas as pd\n",
    "archivo_csv = 'datos_lluvia.csv'\n",
    "datos_csv = pd.read_csv(archivo_csv)"
   ]
  },
  {
   "cell_type": "code",
   "execution_count": null,
   "metadata": {},
   "outputs": [],
   "source": [
    "df = pd.DataFrame(datos_csv)\n",
    "df"
   ]
  },
  {
   "cell_type": "code",
   "execution_count": null,
   "metadata": {},
   "outputs": [],
   "source": [
    "pip install matplotlib\n",
    "pip install seaborn"
   ]
  },
  {
   "cell_type": "code",
   "execution_count": null,
   "metadata": {},
   "outputs": [],
   "source": [
    "fields = ['Fecha', 'Valor']\n",
    "new_df = df[fields].copy()\n",
    "new_df['Fecha'] = pd.to_datetime(new_df['Fecha']).dt.date\n",
    "new_df"
   ]
  },
  {
   "cell_type": "code",
   "execution_count": null,
   "metadata": {},
   "outputs": [],
   "source": [
    "import matplotlib.pyplot as plt\n",
    "# Gráfico de línea\n",
    "plt.figure(figsize=(15, 6))\n",
    "plt.plot(new_df['Fecha'], new_df['Valor'], label='Lluvia diaria', color='blue', alpha=0.7)\n",
    "plt.title('Cantidad de lluvia diaria en Pereira', fontsize=16)\n",
    "plt.xlabel('Fecha', fontsize=12)\n",
    "plt.ylabel('Lluvia (mm)', fontsize=12)\n",
    "plt.xticks(rotation=45)\n",
    "plt.grid(True, linestyle='--', alpha=0.5)\n",
    "plt.tight_layout()\n",
    "plt.legend()\n",
    "plt.show()"
   ]
  },
  {
   "cell_type": "code",
   "execution_count": null,
   "metadata": {},
   "outputs": [],
   "source": [
    "# Gráfico de barras (opcional para comparación)\n",
    "plt.figure(figsize=(15, 6))\n",
    "plt.bar(new_df['Fecha'], new_df['Valor'], color='skyblue', alpha=0.7, label='Lluvia diaria')\n",
    "plt.title('Cantidad de lluvia diaria en Pereira', fontsize=16)\n",
    "plt.xlabel('Fecha', fontsize=12)\n",
    "plt.ylabel('Lluvia (mm)', fontsize=12)\n",
    "plt.xticks(rotation=45)\n",
    "plt.tight_layout()\n",
    "plt.legend()\n",
    "plt.show()"
   ]
  },
  {
   "cell_type": "code",
   "execution_count": null,
   "metadata": {},
   "outputs": [],
   "source": [
    "# Agrupar por año\n",
    "new_df['Año'] = pd.to_datetime(new_df['Fecha']).dt.year\n",
    "rain_by_year = new_df.groupby('Año')['Valor'].sum()\n",
    "\n",
    "# Graficar\n",
    "plt.figure(figsize=(10, 6))\n",
    "rain_by_year.plot(kind='bar', color='skyblue', alpha=0.7)\n",
    "plt.title('Cantidad total de lluvia por año en Pereira', fontsize=16)\n",
    "plt.xlabel('Año', fontsize=12)\n",
    "plt.ylabel('Lluvia total (mm)', fontsize=12)\n",
    "plt.grid(axis='y', linestyle='--', alpha=0.5)\n",
    "plt.tight_layout()\n",
    "plt.show()"
   ]
  },
  {
   "cell_type": "code",
   "execution_count": null,
   "metadata": {},
   "outputs": [],
   "source": [
    "# Filtrar por un año específico (ejemplo: 2018)\n",
    "year = 2021\n",
    "filtered_df = new_df[new_df['Fecha'].apply(lambda x: x.year) == year]\n",
    "\n",
    "# Graficar en barras\n",
    "plt.figure(figsize=(15, 6))\n",
    "plt.bar(filtered_df['Fecha'], filtered_df['Valor'], color='blue', alpha=0.7, label=f'Lluvia diaria en {year}')\n",
    "plt.title(f'Cantidad de lluvia diaria en Pereira durante {year}', fontsize=16)\n",
    "plt.xlabel('Fecha', fontsize=12)\n",
    "plt.ylabel('Lluvia (mm)', fontsize=12)\n",
    "plt.xticks(rotation=45)\n",
    "plt.grid(axis='y', linestyle='--', alpha=0.5)\n",
    "plt.tight_layout()\n",
    "plt.legend()\n",
    "plt.show()\n"
   ]
  },
  {
   "cell_type": "code",
   "execution_count": null,
   "metadata": {},
   "outputs": [],
   "source": [
    "# Filtrar por año y mes específicos (ejemplo: agosto de 2018)\n",
    "year = 2018\n",
    "month = 6\n",
    "filtered_df = new_df[(new_df['Fecha'].apply(lambda x: x.year) == year) & (new_df['Fecha'].apply(lambda x: x.month) == month)]\n",
    "\n",
    "# Graficar\n",
    "plt.figure(figsize=(15, 6))\n",
    "plt.plot(filtered_df['Fecha'], filtered_df['Valor'], label=f'Lluvia diaria en {month}/{year}', color='green', alpha=0.7)\n",
    "plt.title(f'Cantidad de lluvia diaria en Pereira durante {month}/{year}', fontsize=16)\n",
    "plt.xlabel('Fecha', fontsize=12)\n",
    "plt.ylabel('Lluvia (mm)', fontsize=12)\n",
    "plt.xticks(rotation=45)\n",
    "plt.grid(True, linestyle='--', alpha=0.5)\n",
    "plt.tight_layout()\n",
    "plt.legend()\n",
    "plt.show()"
   ]
  },
  {
   "cell_type": "code",
   "execution_count": null,
   "metadata": {},
   "outputs": [],
   "source": []
  }
 ],
 "metadata": {
  "kernelspec": {
   "display_name": "Python 3 (ipykernel)",
   "language": "python",
   "name": "python3"
  },
  "language_info": {
   "codemirror_mode": {
    "name": "ipython",
    "version": 3
   },
   "file_extension": ".py",
   "mimetype": "text/x-python",
   "name": "python",
   "nbconvert_exporter": "python",
   "pygments_lexer": "ipython3",
   "version": "3.9.20"
  }
 },
 "nbformat": 4,
 "nbformat_minor": 4
}
