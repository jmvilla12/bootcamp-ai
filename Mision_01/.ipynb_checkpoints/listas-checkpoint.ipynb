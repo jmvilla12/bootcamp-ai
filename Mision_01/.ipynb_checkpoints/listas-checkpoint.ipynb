{
 "cells": [
  {
   "cell_type": "markdown",
   "id": "fca26421-23db-4991-a5ca-91bb84ab3578",
   "metadata": {},
   "source": [
    "# Reto3\n",
    "## Crear una lista"
   ]
  },
  {
   "cell_type": "code",
   "execution_count": 3,
   "id": "154fe836-4943-45c2-868c-7c09f846220d",
   "metadata": {},
   "outputs": [],
   "source": [
    "frutas = [\"manzana\", \"banana\", \"naranja\"]"
   ]
  },
  {
   "cell_type": "markdown",
   "id": "8e7eea1c-8b0b-486f-809a-47431c773548",
   "metadata": {},
   "source": [
    "## Imprimir la lista"
   ]
  },
  {
   "cell_type": "code",
   "execution_count": 4,
   "id": "ab03384f-855c-4ad7-a8ef-da8420daeef5",
   "metadata": {},
   "outputs": [
    {
     "name": "stdout",
     "output_type": "stream",
     "text": [
      "Lista de frutas: ['manzana', 'banana', 'naranja']\n"
     ]
    }
   ],
   "source": [
    "print(\"Lista de frutas:\", frutas)"
   ]
  },
  {
   "cell_type": "markdown",
   "id": "567e8a11-bbe1-4674-9087-4eecbeadcd28",
   "metadata": {},
   "source": [
    "## Agregar un elemento"
   ]
  },
  {
   "cell_type": "code",
   "execution_count": 5,
   "id": "ced04431-d003-4e30-84d4-ad132c2e0274",
   "metadata": {},
   "outputs": [
    {
     "name": "stdout",
     "output_type": "stream",
     "text": [
      "Lista actualizada: ['manzana', 'banana', 'naranja', 'uva']\n"
     ]
    }
   ],
   "source": [
    "frutas.append(\"uva\")\n",
    "print(\"Lista actualizada:\", frutas)"
   ]
  },
  {
   "cell_type": "code",
   "execution_count": null,
   "id": "8beb6cdb-3c75-402b-b3c2-15ca86b87f45",
   "metadata": {},
   "outputs": [],
   "source": []
  }
 ],
 "metadata": {
  "kernelspec": {
   "display_name": "Python 3 (ipykernel)",
   "language": "python",
   "name": "python3"
  },
  "language_info": {
   "codemirror_mode": {
    "name": "ipython",
    "version": 3
   },
   "file_extension": ".py",
   "mimetype": "text/x-python",
   "name": "python",
   "nbconvert_exporter": "python",
   "pygments_lexer": "ipython3",
   "version": "3.9.20"
  }
 },
 "nbformat": 4,
 "nbformat_minor": 5
}
