{
 "cells": [
  {
   "cell_type": "markdown",
   "id": "13724d83-65ce-4545-af64-210c30e7c9c8",
   "metadata": {},
   "source": [
    "# Adecuando pandas para su instalación"
   ]
  },
  {
   "cell_type": "code",
   "execution_count": 30,
   "id": "adb6007e-f632-4c3b-b34e-afb4f3d03274",
   "metadata": {},
   "outputs": [
    {
     "name": "stdout",
     "output_type": "stream",
     "text": [
      "         0  1            2   3\n",
      "0   Helena  F  Bucaramanga  13\n",
      "1  Esteban  M     Medellin  24\n",
      "2    Edith  F  Bucaramanga  59\n",
      "3    Jairo  M       Cúcuta  60\n",
      "4     José  M         Cali  45\n"
     ]
    }
   ],
   "source": [
    "import pandas as pd\n",
    "import numpy as np\n",
    "datos = [[\"Helena\", \"F\", \"Bucaramanga\", \"13\"],\n",
    "         [\"Esteban\", \"M\", \"Medellin\", \"24\"],\n",
    "         [\"Edith\", \"F\", \"Bucaramanga\", \"59\"],\n",
    "         [\"Jairo\", \"M\", \"Cúcuta\", \"60\"],\n",
    "         [\"José\", \"M\", \"Cali\", \"45\"]]\n",
    "\n",
    "df = pd.DataFrame(datos)\n",
    "print(df)"
   ]
  },
  {
   "cell_type": "markdown",
   "id": "621aabcc-a7f3-425d-bbcb-1724e5258180",
   "metadata": {},
   "source": [
    "podemos agregar las columnas para que sea mas legible"
   ]
  },
  {
   "cell_type": "code",
   "execution_count": 31,
   "id": "ef9bac93-7f84-4095-9f52-56fe46a1dd90",
   "metadata": {},
   "outputs": [
    {
     "name": "stdout",
     "output_type": "stream",
     "text": [
      "    Nombre Genero       Ciudad Edad\n",
      "0   Helena      F  Bucaramanga   13\n",
      "1  Esteban      M     Medellin   24\n",
      "2    Edith      F  Bucaramanga   59\n",
      "3    Jairo      M       Cúcuta   60\n",
      "4     José      M         Cali   45\n"
     ]
    }
   ],
   "source": [
    "columnas = [\"Nombre\", \"Genero\", \"Ciudad\", \"Edad\"]\n",
    "df = pd.DataFrame(datos, columns = columnas)\n",
    "print(df)"
   ]
  },
  {
   "cell_type": "code",
   "execution_count": 32,
   "id": "b9d97c51-b24d-44cf-a0a2-23a84583f255",
   "metadata": {},
   "outputs": [
    {
     "name": "stdout",
     "output_type": "stream",
     "text": [
      "    Nombre Genero       Ciudad Edad\n",
      "a   Helena      F  Bucaramanga   13\n",
      "b  Esteban      M     Medellin   24\n",
      "c    Edith      F  Bucaramanga   59\n",
      "d    Jairo      M       Cúcuta   60\n",
      "e     José      M         Cali   45\n"
     ]
    }
   ],
   "source": [
    "#index\n",
    "indices=[\"a\",\"b\",\"c\",\"d\",\"e\"]\n",
    "df=pd.DataFrame(datos, index=indices, columns=columnas)\n",
    "print(df)"
   ]
  },
  {
   "cell_type": "code",
   "execution_count": 33,
   "id": "1ce22ab3-a149-42eb-8729-b4114b41f565",
   "metadata": {},
   "outputs": [
    {
     "name": "stdout",
     "output_type": "stream",
     "text": [
      "    Nombre Genero       Ciudad Edad           profesion\n",
      "a   Helena      F  Bucaramanga   13  ingeniero mecanico\n",
      "b  Esteban      M     Medellin   24           psicologo\n",
      "c    Edith      F  Bucaramanga   59            escritor\n",
      "d    Jairo      M       Cúcuta   60           psicologo\n",
      "e     José      M         Cali   45           conductor\n"
     ]
    }
   ],
   "source": [
    "df[\"profesion\"]=[\"ingeniero mecanico\", \"psicologo\", \"escritor\", \"psicologo\",\"conductor\"]\n",
    "print(df)"
   ]
  },
  {
   "cell_type": "code",
   "execution_count": 34,
   "id": "b15f1e5b-fef0-4cde-b8ea-06f87aa88392",
   "metadata": {},
   "outputs": [
    {
     "name": "stdout",
     "output_type": "stream",
     "text": [
      "    Nombre Genero       Ciudad Edad           profesion  salario\n",
      "a   Helena      F  Bucaramanga   13  ingeniero mecanico  2796000\n",
      "b  Esteban      M     Medellin   24           psicologo  2871000\n",
      "c    Edith      F  Bucaramanga   59            escritor  3374000\n",
      "d    Jairo      M       Cúcuta   60           psicologo  3309000\n",
      "e     José      M         Cali   45           conductor  2495000\n"
     ]
    }
   ],
   "source": [
    "df[\"salario\"] = np.random.randint(1500,4700,size=len(df))*1000\n",
    "print(df)"
   ]
  },
  {
   "cell_type": "code",
   "execution_count": 35,
   "id": "71ef04a5-030a-4ddc-9902-c399041faa00",
   "metadata": {},
   "outputs": [
    {
     "name": "stdout",
     "output_type": "stream",
     "text": [
      "Nombre       object\n",
      "Genero       object\n",
      "Ciudad       object\n",
      "Edad         object\n",
      "profesion    object\n",
      "salario       int32\n",
      "dtype: object\n"
     ]
    }
   ],
   "source": [
    "print(df.dtypes)"
   ]
  },
  {
   "cell_type": "code",
   "execution_count": 36,
   "id": "efbb5fca-6f8d-4f7f-80fa-8a5663fbb07c",
   "metadata": {},
   "outputs": [
    {
     "name": "stdout",
     "output_type": "stream",
     "text": [
      "int64\n"
     ]
    }
   ],
   "source": [
    "df[\"Edad\"]=pd.to_numeric(df[\"Edad\"])\n",
    "print(df[\"Edad\"].dtype)"
   ]
  },
  {
   "cell_type": "code",
   "execution_count": 37,
   "id": "bb99e205-893f-415d-8d19-967e33b4d469",
   "metadata": {},
   "outputs": [
    {
     "name": "stdout",
     "output_type": "stream",
     "text": [
      "a     True\n",
      "b     True\n",
      "c    False\n",
      "d    False\n",
      "e    False\n",
      "Name: Edad, dtype: bool\n"
     ]
    }
   ],
   "source": [
    "print(df[\"Edad\"]<30)"
   ]
  },
  {
   "cell_type": "code",
   "execution_count": 38,
   "id": "c1951fa1-ece8-409d-86e5-c3140e0a7d7c",
   "metadata": {},
   "outputs": [
    {
     "name": "stdout",
     "output_type": "stream",
     "text": [
      "    Nombre Genero       Ciudad  Edad           profesion  salario\n",
      "a   Helena      F  Bucaramanga    13  ingeniero mecanico  2796000\n",
      "b  Esteban      M     Medellin    24           psicologo  2871000\n"
     ]
    }
   ],
   "source": [
    "print(df[df[\"Edad\"]<30])"
   ]
  },
  {
   "cell_type": "code",
   "execution_count": 47,
   "id": "241b1634-6677-4585-b56e-3e4d4b9f22c4",
   "metadata": {},
   "outputs": [
    {
     "name": "stdout",
     "output_type": "stream",
     "text": [
      "     Nombre Genero       Ciudad  Edad           profesion    salario\n",
      "0    Helena      F  Bucaramanga    13  ingeniero mecanico  2796000.0\n",
      "1   Esteban      M     Medellin    24           psicologo  2871000.0\n",
      "2     Edith      F  Bucaramanga    59            escritor  3374000.0\n",
      "3     Jairo      M       Cúcuta    60           psicologo  3309000.0\n",
      "4      José      M         Cali    45           conductor  2495000.0\n",
      "5     Jairo      M         Cali    28                 NaN        NaN\n",
      "6    Milena      F         Cali    29                 NaN        NaN\n",
      "7     Jairo      M         Cali    28                 NaN        NaN\n",
      "8    Milena      F         Cali    29                 NaN        NaN\n",
      "9     Jairo      M         Cali    28                 NaN        NaN\n",
      "10   Milena      F         Cali    29                 NaN        NaN\n"
     ]
    }
   ],
   "source": [
    "# nuevas filas\n",
    "nuevas_filas = [\n",
    "    {\"Nombre\":\"Jairo\",\"Genero\":\"M\",\"Ciudad\":\"Cali\",\"Edad\":28},\n",
    "    {\"Nombre\":\"Milena\",\"Genero\":\"F\",\"Ciudad\":\"Cali\",\"Edad\":29}\n",
    "]\n",
    "df = pd.concat([df,pd.DataFrame(nuevas_filas)], ignore_index = True)\n",
    "print(df)"
   ]
  },
  {
   "cell_type": "code",
   "execution_count": 49,
   "id": "18ef959d-c7b8-42ce-be9b-b6d047eb9f18",
   "metadata": {},
   "outputs": [
    {
     "name": "stdout",
     "output_type": "stream",
     "text": [
      "     Nombre Genero       Ciudad  Edad           profesion    salario\n",
      "0    Helena      F  Bucaramanga    13  ingeniero mecanico  2796000.0\n",
      "1   Esteban      M     Medellin    24           psicologo  2871000.0\n",
      "2     Edith      F  Bucaramanga    59            escritor  3374000.0\n",
      "3     Jairo      M       Cúcuta    60           psicologo  3309000.0\n",
      "4      José      M         Cali    45           conductor  2495000.0\n",
      "5     Jairo      M         Cali    28     Sin especificar        0.0\n",
      "6    Milena      F         Cali    29     Sin especificar        0.0\n",
      "7     Jairo      M         Cali    28     Sin especificar        0.0\n",
      "8    Milena      F         Cali    29     Sin especificar        0.0\n",
      "9     Jairo      M         Cali    28     Sin especificar        0.0\n",
      "10   Milena      F         Cali    29     Sin especificar        0.0\n"
     ]
    }
   ],
   "source": [
    "df[\"profesion\"] = df[\"profesion\"].fillna(\"Sin especificar\")\n",
    "df[\"salario\"] = df[\"salario\"].fillna(0)\n",
    "print(df)"
   ]
  },
  {
   "cell_type": "code",
   "execution_count": 52,
   "id": "0c7ad162-2b40-4778-8db8-07a9022c493c",
   "metadata": {},
   "outputs": [
    {
     "name": "stdin",
     "output_type": "stream",
     "text": [
      "Ingresa por favor la ciudad de donde deseas consultar:  Cali\n"
     ]
    },
    {
     "data": {
      "text/html": [
       "<div>\n",
       "<style scoped>\n",
       "    .dataframe tbody tr th:only-of-type {\n",
       "        vertical-align: middle;\n",
       "    }\n",
       "\n",
       "    .dataframe tbody tr th {\n",
       "        vertical-align: top;\n",
       "    }\n",
       "\n",
       "    .dataframe thead th {\n",
       "        text-align: right;\n",
       "    }\n",
       "</style>\n",
       "<table border=\"1\" class=\"dataframe\">\n",
       "  <thead>\n",
       "    <tr style=\"text-align: right;\">\n",
       "      <th></th>\n",
       "      <th>Nombre</th>\n",
       "      <th>Genero</th>\n",
       "      <th>Ciudad</th>\n",
       "      <th>Edad</th>\n",
       "      <th>profesion</th>\n",
       "      <th>salario</th>\n",
       "    </tr>\n",
       "  </thead>\n",
       "  <tbody>\n",
       "    <tr>\n",
       "      <th>4</th>\n",
       "      <td>José</td>\n",
       "      <td>M</td>\n",
       "      <td>Cali</td>\n",
       "      <td>45</td>\n",
       "      <td>conductor</td>\n",
       "      <td>2495000.0</td>\n",
       "    </tr>\n",
       "    <tr>\n",
       "      <th>5</th>\n",
       "      <td>Jairo</td>\n",
       "      <td>M</td>\n",
       "      <td>Cali</td>\n",
       "      <td>28</td>\n",
       "      <td>Sin especificar</td>\n",
       "      <td>0.0</td>\n",
       "    </tr>\n",
       "    <tr>\n",
       "      <th>6</th>\n",
       "      <td>Milena</td>\n",
       "      <td>F</td>\n",
       "      <td>Cali</td>\n",
       "      <td>29</td>\n",
       "      <td>Sin especificar</td>\n",
       "      <td>0.0</td>\n",
       "    </tr>\n",
       "    <tr>\n",
       "      <th>7</th>\n",
       "      <td>Jairo</td>\n",
       "      <td>M</td>\n",
       "      <td>Cali</td>\n",
       "      <td>28</td>\n",
       "      <td>Sin especificar</td>\n",
       "      <td>0.0</td>\n",
       "    </tr>\n",
       "    <tr>\n",
       "      <th>8</th>\n",
       "      <td>Milena</td>\n",
       "      <td>F</td>\n",
       "      <td>Cali</td>\n",
       "      <td>29</td>\n",
       "      <td>Sin especificar</td>\n",
       "      <td>0.0</td>\n",
       "    </tr>\n",
       "    <tr>\n",
       "      <th>9</th>\n",
       "      <td>Jairo</td>\n",
       "      <td>M</td>\n",
       "      <td>Cali</td>\n",
       "      <td>28</td>\n",
       "      <td>Sin especificar</td>\n",
       "      <td>0.0</td>\n",
       "    </tr>\n",
       "    <tr>\n",
       "      <th>10</th>\n",
       "      <td>Milena</td>\n",
       "      <td>F</td>\n",
       "      <td>Cali</td>\n",
       "      <td>29</td>\n",
       "      <td>Sin especificar</td>\n",
       "      <td>0.0</td>\n",
       "    </tr>\n",
       "  </tbody>\n",
       "</table>\n",
       "</div>"
      ],
      "text/plain": [
       "    Nombre Genero Ciudad  Edad        profesion    salario\n",
       "4     José      M   Cali    45        conductor  2495000.0\n",
       "5    Jairo      M   Cali    28  Sin especificar        0.0\n",
       "6   Milena      F   Cali    29  Sin especificar        0.0\n",
       "7    Jairo      M   Cali    28  Sin especificar        0.0\n",
       "8   Milena      F   Cali    29  Sin especificar        0.0\n",
       "9    Jairo      M   Cali    28  Sin especificar        0.0\n",
       "10  Milena      F   Cali    29  Sin especificar        0.0"
      ]
     },
     "execution_count": 52,
     "metadata": {},
     "output_type": "execute_result"
    }
   ],
   "source": [
    "ciudad = input(\"Ingresa por favor la ciudad de donde deseas consultar: \").capitalize()\n",
    "df[df.Ciudad.str.contains(ciudad)]"
   ]
  },
  {
   "cell_type": "code",
   "execution_count": 53,
   "id": "a184869e-bf61-4e8e-bad6-87c2bc1c2ceb",
   "metadata": {},
   "outputs": [
    {
     "name": "stdout",
     "output_type": "stream",
     "text": [
      "0     Bucaramanga\n",
      "1        Medellin\n",
      "2     Bucaramanga\n",
      "3          Cúcuta\n",
      "4            Cali\n",
      "5            Cali\n",
      "6            Cali\n",
      "7            Cali\n",
      "8            Cali\n",
      "9            Cali\n",
      "10           Cali\n",
      "Name: Ciudad, dtype: object\n"
     ]
    }
   ],
   "source": [
    "print(df[\"Ciudad\"])"
   ]
  },
  {
   "cell_type": "code",
   "execution_count": 56,
   "id": "08094e32-9ee0-47ac-8eab-856cb018bcda",
   "metadata": {},
   "outputs": [
    {
     "name": "stdout",
     "output_type": "stream",
     "text": [
      "['Bucaramanga', 'Medellin', 'Cúcuta', 'Cali']\n",
      "{0: 'Bucaramanga', 1: 'Medellin', 2: 'Cúcuta', 3: 'Cali'}\n"
     ]
    }
   ],
   "source": [
    "ciudades = df[\"Ciudad\"].unique().tolist()\n",
    "# print(ciudades)\n",
    "ciudades_index = {idx: ciudad for idx, ciudad in enumerate(ciudades)}\n",
    "print(ciudades_index)"
   ]
  },
  {
   "cell_type": "code",
   "execution_count": 67,
   "id": "9cd539e3-ab2a-492f-b543-01c4f2790814",
   "metadata": {},
   "outputs": [
    {
     "name": "stdout",
     "output_type": "stream",
     "text": [
      "Ciudades disponibles para la consulta: \n",
      "0. Bucaramanga\n",
      "1. Medellin\n",
      "2. Cúcuta\n",
      "3. Cali\n"
     ]
    },
    {
     "name": "stdin",
     "output_type": "stream",
     "text": [
      "Ingresa el número de la ciudad que deseas consultar:  1\n"
     ]
    },
    {
     "data": {
      "text/html": [
       "<div>\n",
       "<style scoped>\n",
       "    .dataframe tbody tr th:only-of-type {\n",
       "        vertical-align: middle;\n",
       "    }\n",
       "\n",
       "    .dataframe tbody tr th {\n",
       "        vertical-align: top;\n",
       "    }\n",
       "\n",
       "    .dataframe thead th {\n",
       "        text-align: right;\n",
       "    }\n",
       "</style>\n",
       "<table border=\"1\" class=\"dataframe\">\n",
       "  <thead>\n",
       "    <tr style=\"text-align: right;\">\n",
       "      <th></th>\n",
       "      <th>Nombre</th>\n",
       "      <th>Genero</th>\n",
       "      <th>Ciudad</th>\n",
       "      <th>Edad</th>\n",
       "      <th>profesion</th>\n",
       "      <th>salario</th>\n",
       "    </tr>\n",
       "  </thead>\n",
       "  <tbody>\n",
       "    <tr>\n",
       "      <th>1</th>\n",
       "      <td>Esteban</td>\n",
       "      <td>M</td>\n",
       "      <td>Medellin</td>\n",
       "      <td>24</td>\n",
       "      <td>psicologo</td>\n",
       "      <td>2871000.0</td>\n",
       "    </tr>\n",
       "  </tbody>\n",
       "</table>\n",
       "</div>"
      ],
      "text/plain": [
       "    Nombre Genero    Ciudad  Edad  profesion    salario\n",
       "1  Esteban      M  Medellin    24  psicologo  2871000.0"
      ]
     },
     "execution_count": 67,
     "metadata": {},
     "output_type": "execute_result"
    }
   ],
   "source": [
    "print(\"Ciudades disponibles para la consulta: \")\n",
    "for idx, ciudad in ciudades_index.items():\n",
    "    print(f\"{idx}. {ciudad}\")\n",
    "\n",
    "num_eleccion = int(input(\"Ingresa el número de la ciudad que deseas consultar: \"))\n",
    "ciudad_eleccion = ciudades_index[num_eleccion]\n",
    "df[df.Ciudad.str.contains(ciudad_eleccion)]"
   ]
  },
  {
   "cell_type": "code",
   "execution_count": null,
   "id": "9d5eb3eb-8459-40f4-b04a-2f9c1a398abf",
   "metadata": {},
   "outputs": [],
   "source": []
  }
 ],
 "metadata": {
  "kernelspec": {
   "display_name": "Python 3 (ipykernel)",
   "language": "python",
   "name": "python3"
  },
  "language_info": {
   "codemirror_mode": {
    "name": "ipython",
    "version": 3
   },
   "file_extension": ".py",
   "mimetype": "text/x-python",
   "name": "python",
   "nbconvert_exporter": "python",
   "pygments_lexer": "ipython3",
   "version": "3.9.20"
  }
 },
 "nbformat": 4,
 "nbformat_minor": 5
}
