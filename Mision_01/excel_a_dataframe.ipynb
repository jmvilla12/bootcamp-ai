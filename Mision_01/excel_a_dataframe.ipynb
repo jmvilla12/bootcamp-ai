{
 "cells": [
  {
   "cell_type": "markdown",
   "id": "a679bad1-eefa-4875-aaa4-7223a53bd080",
   "metadata": {},
   "source": [
    "## Ejercicio 3: Leer un archivo Excel y convertirlo a un DataFrame"
   ]
  },
  {
   "cell_type": "code",
   "execution_count": 4,
   "id": "f456e17e-58ed-4109-a6dd-3ddce1915dd4",
   "metadata": {},
   "outputs": [],
   "source": [
    "# Leer el archivo Excel\n",
    "import pandas as pd\n",
    "archivo_excel = 'archivo_convertido.xlsx'\n",
    "df = pd.read_excel(archivo_excel)"
   ]
  },
  {
   "cell_type": "code",
   "execution_count": 6,
   "id": "3cef50bf-1abf-4e3e-afd2-0eda55b320b7",
   "metadata": {},
   "outputs": [
    {
     "name": "stdout",
     "output_type": "stream",
     "text": [
      "DataFrame generado a partir del Excel:\n",
      "   Documento    Nombre   Apellido                 Correo     Celular  Nota1  \\\n",
      "0   81025364     Lucía  Rodríguez  campista1@example.com  3080348138   0.45   \n",
      "1   34581610     Mateo      Bravo  campista2@example.com  3000183150   1.33   \n",
      "2   24709014    Felipe     Moreno  campista3@example.com  3040011576   3.97   \n",
      "3   78895567    Felipe     Suárez  campista4@example.com  3138758282   2.55   \n",
      "4   22523818  Santiago      Gómez  campista5@example.com  3189515605   0.88   \n",
      "\n",
      "   Nota2  Nota3  Definitiva  \n",
      "0   0.10   2.53        1.03  \n",
      "1   2.38   1.61        1.77  \n",
      "2   4.17   3.00        3.71  \n",
      "3   2.07   1.66        2.09  \n",
      "4   1.75   0.39        1.01  \n"
     ]
    }
   ],
   "source": [
    "# Mostrar las primeras filas del DataFrame\n",
    "print(\"DataFrame generado a partir del Excel:\")\n",
    "print(df.head())"
   ]
  },
  {
   "cell_type": "code",
   "execution_count": 8,
   "id": "a1d46216-b822-4f3f-aa02-e75c97be7496",
   "metadata": {},
   "outputs": [
    {
     "name": "stdout",
     "output_type": "stream",
     "text": [
      "\n",
      "Información general del DataFrame:\n",
      "<class 'pandas.core.frame.DataFrame'>\n",
      "RangeIndex: 30 entries, 0 to 29\n",
      "Data columns (total 9 columns):\n",
      " #   Column      Non-Null Count  Dtype  \n",
      "---  ------      --------------  -----  \n",
      " 0   Documento   30 non-null     int64  \n",
      " 1   Nombre      30 non-null     object \n",
      " 2   Apellido    30 non-null     object \n",
      " 3   Correo      30 non-null     object \n",
      " 4   Celular     30 non-null     int64  \n",
      " 5   Nota1       30 non-null     float64\n",
      " 6   Nota2       30 non-null     float64\n",
      " 7   Nota3       30 non-null     float64\n",
      " 8   Definitiva  30 non-null     float64\n",
      "dtypes: float64(4), int64(2), object(3)\n",
      "memory usage: 2.2+ KB\n",
      "None\n"
     ]
    }
   ],
   "source": [
    "# Analizar información básica\n",
    "print(\"\\nInformación general del DataFrame:\")\n",
    "print(df.info())"
   ]
  },
  {
   "cell_type": "code",
   "execution_count": 10,
   "id": "2f63aa6b-614b-4d30-a6b5-9eec73bd8d9f",
   "metadata": {},
   "outputs": [
    {
     "name": "stdout",
     "output_type": "stream",
     "text": [
      "\n",
      "Estadísticas descriptivas:\n",
      "          Documento       Celular      Nota1      Nota2      Nota3  Definitiva\n",
      "count  3.000000e+01  3.000000e+01  30.000000  30.000000  30.000000   30.000000\n",
      "mean   5.704161e+07  3.089748e+09   2.269667   2.562667   2.215333    2.349667\n",
      "std    2.923383e+07  5.702124e+07   1.555157   1.199914   1.392110    0.967113\n",
      "min    1.017580e+07  3.000183e+09   0.080000   0.100000   0.100000    0.970000\n",
      "25%    2.630083e+07  3.043343e+09   0.907500   1.795000   1.155000    1.620000\n",
      "50%    6.075774e+07  3.086457e+09   2.145000   2.250000   2.255000    2.405000\n",
      "75%    8.049291e+07  3.119845e+09   3.875000   3.600000   2.992500    2.700000\n",
      "max    9.914830e+07  3.193999e+09   4.890000   4.970000   4.970000    4.820000\n"
     ]
    }
   ],
   "source": [
    "print(\"\\nEstadísticas descriptivas:\")\n",
    "print(df.describe())"
   ]
  },
  {
   "cell_type": "code",
   "execution_count": null,
   "id": "4889285b-7a24-42b8-8f03-2b63b0d86270",
   "metadata": {},
   "outputs": [],
   "source": []
  }
 ],
 "metadata": {
  "kernelspec": {
   "display_name": "Python 3 (ipykernel)",
   "language": "python",
   "name": "python3"
  },
  "language_info": {
   "codemirror_mode": {
    "name": "ipython",
    "version": 3
   },
   "file_extension": ".py",
   "mimetype": "text/x-python",
   "name": "python",
   "nbconvert_exporter": "python",
   "pygments_lexer": "ipython3",
   "version": "3.12.7"
  }
 },
 "nbformat": 4,
 "nbformat_minor": 5
}
